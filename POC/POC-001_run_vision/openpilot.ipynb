{
 "cells": [
  {
   "cell_type": "code",
   "execution_count": 1,
   "id": "017def7e-4280-4589-b02f-ce9875f9c8f3",
   "metadata": {},
   "outputs": [
    {
     "name": "stdout",
     "output_type": "stream",
     "text": [
      "{'input_imgs': (1, 12, 128, 256), 'big_input_imgs': (1, 12, 128, 256)}\n",
      "{'meta': slice(0, 55, None), 'desire_pred': slice(55, 87, None), 'pose': slice(87, 99, None), 'wide_from_device_euler': slice(99, 105, None), 'road_transform': slice(105, 117, None), 'hidden_state': slice(117, -3, None), 'pad': slice(-3, None, None)}\n",
      "632\n"
     ]
    }
   ],
   "source": [
    "import pickle\n",
    "VISION_METADATA_PATH = \"res/driving_vision_metadata.pkl\"\n",
    "with open(VISION_METADATA_PATH, 'rb') as f:\n",
    "  vision_metadata = pickle.load(f)\n",
    "  vision_input_shapes =  vision_metadata['input_shapes']\n",
    "  vision_output_slices = vision_metadata['output_slices']\n",
    "  vision_output_size = vision_metadata['output_shapes']['outputs'][1]\n",
    "\n",
    "print(vision_input_shapes)\n",
    "print(vision_output_slices)\n",
    "print(vision_output_size)"
   ]
  }
 ],
 "metadata": {
  "kernelspec": {
   "display_name": "Python 3 (ipykernel)",
   "language": "python",
   "name": "python3"
  },
  "language_info": {
   "codemirror_mode": {
    "name": "ipython",
    "version": 3
   },
   "file_extension": ".py",
   "mimetype": "text/x-python",
   "name": "python",
   "nbconvert_exporter": "python",
   "pygments_lexer": "ipython3",
   "version": "3.12.3"
  }
 },
 "nbformat": 4,
 "nbformat_minor": 5
}
